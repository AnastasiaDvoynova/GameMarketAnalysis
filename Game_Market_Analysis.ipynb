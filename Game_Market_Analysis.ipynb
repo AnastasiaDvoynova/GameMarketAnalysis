{
  "nbformat": 4,
  "nbformat_minor": 0,
  "metadata": {
    "colab": {
      "name": "Game_Market_Analysis.ipynb",
      "provenance": [],
      "collapsed_sections": [],
      "include_colab_link": true
    },
    "kernelspec": {
      "display_name": "Python 3",
      "name": "python3"
    }
  },
  "cells": [
    {
      "cell_type": "markdown",
      "metadata": {
        "id": "view-in-github",
        "colab_type": "text"
      },
      "source": [
        "<a href=\"https://colab.research.google.com/github/AnastasiaDvoynova/GameMarketAnalysis/blob/main/Game_Market_Analysis.ipynb\" target=\"_parent\"><img src=\"https://colab.research.google.com/assets/colab-badge.svg\" alt=\"Open In Colab\"/></a>"
      ]
    },
    {
      "cell_type": "markdown",
      "metadata": {
        "id": "l7Ch_ko3Kox-"
      },
      "source": [
        "# 1. Описание проекта"
      ]
    },
    {
      "cell_type": "markdown",
      "metadata": {
        "id": "tUSG02e5KIDX"
      },
      "source": [
        "\n",
        "Из открытых источников доступны исторические данные о продажах игр, оценки пользователей и экспертов, жанры и платформы (например, Xbox или PlayStation). Необходимо выявить определяющие успешность игры закономерности. Это позволит сделать ставку на потенциально популярный продукт и спланировать рекламные кампании.\n",
        "\n",
        "Доступны данные до 2016 года. Представим, что сейчас декабрь 2016 г. и спланируем кампанию на 2017-й. "
      ]
    },
    {
      "cell_type": "markdown",
      "metadata": {
        "id": "WKDtRGV_rHYI"
      },
      "source": [
        "# 2. Подготовка данных к анализу"
      ]
    },
    {
      "cell_type": "markdown",
      "metadata": {
        "id": "O7oM6uFTz7x1"
      },
      "source": [
        "Откроем файл с данными и изучим общую информацию.\n"
      ]
    },
    {
      "cell_type": "markdown",
      "metadata": {
        "id": "_7s8gw0MLPAm"
      },
      "source": [
        "### Описание данных games.csv\n",
        "Name — название игры\n",
        "\n",
        "Platform — платформа\n",
        "\n",
        "Year_of_Release — год выпуска\n",
        "\n",
        "Genre — жанр игры\n",
        "\n",
        "NA_sales — продажи в Северной Америке (миллионы долларов)\n",
        "\n",
        "EU_sales — продажи в Европе (миллионы долларов)\n",
        "\n",
        "JP_sales — продажи в Японии (миллионы долларов)\n",
        "\n",
        "Other_sales — продажи в других странах (миллионы долларов)\n",
        "\n",
        "Critic_Score — оценка критиков (от 0 до 100)\n",
        "\n",
        "User_Score — оценка пользователей (от 0 до 10)\n",
        "\n",
        "Rating — рейтинг от организации ESRB (англ. Entertainment Software Rating Board)"
      ]
    },
    {
      "cell_type": "code",
      "metadata": {
        "id": "uJ00G_aoqssM",
        "colab": {
          "base_uri": "https://localhost:8080/"
        },
        "outputId": "7810066e-236f-4691-b40d-ecb33bbdab61"
      },
      "source": [
        "import pandas as pd\n",
        "import numpy\n",
        "\n",
        "file_obj = pd.read_csv('https://raw.githubusercontent.com/AnastasiaDvoynova/GameMarketAnalysis/main/Data/games.csv')\n",
        "file_obj.info()"
      ],
      "execution_count": 1,
      "outputs": [
        {
          "output_type": "stream",
          "text": [
            "<class 'pandas.core.frame.DataFrame'>\n",
            "RangeIndex: 16715 entries, 0 to 16714\n",
            "Data columns (total 11 columns):\n",
            " #   Column           Non-Null Count  Dtype  \n",
            "---  ------           --------------  -----  \n",
            " 0   Name             16713 non-null  object \n",
            " 1   Platform         16715 non-null  object \n",
            " 2   Year_of_Release  16446 non-null  float64\n",
            " 3   Genre            16713 non-null  object \n",
            " 4   NA_sales         16715 non-null  float64\n",
            " 5   EU_sales         16715 non-null  float64\n",
            " 6   JP_sales         16715 non-null  float64\n",
            " 7   Other_sales      16715 non-null  float64\n",
            " 8   Critic_Score     8137 non-null   float64\n",
            " 9   User_Score       10014 non-null  object \n",
            " 10  Rating           9949 non-null   object \n",
            "dtypes: float64(6), object(5)\n",
            "memory usage: 1.4+ MB\n"
          ],
          "name": "stdout"
        }
      ]
    },
    {
      "cell_type": "code",
      "metadata": {
        "id": "m73guOF9yXo9",
        "colab": {
          "base_uri": "https://localhost:8080/"
        },
        "outputId": "023f7f86-050e-4b67-c799-713c051aa01c"
      },
      "source": [
        "new_columns = []\n",
        "# создаем новый список для заголовков\n",
        "for column in file_obj.columns:\n",
        "    new_columns.append(column.lower())\n",
        "print(new_columns)\n",
        "# в цикле проходимся по каждому заголовку, меняем его регистр на нижний\n",
        "# и записываем в новый список\n",
        "file_obj.set_axis(new_columns, axis = 'columns', inplace = True)\n",
        "# заменяем названия столбцов на новые"
      ],
      "execution_count": 2,
      "outputs": [
        {
          "output_type": "stream",
          "text": [
            "['name', 'platform', 'year_of_release', 'genre', 'na_sales', 'eu_sales', 'jp_sales', 'other_sales', 'critic_score', 'user_score', 'rating']\n"
          ],
          "name": "stdout"
        }
      ]
    },
    {
      "cell_type": "code",
      "metadata": {
        "id": "U-Deb5fNAHHv",
        "colab": {
          "base_uri": "https://localhost:8080/"
        },
        "outputId": "1046d12a-b1b4-4038-8f50-3ce73ebbff89"
      },
      "source": [
        "%load_ext autoreload\n",
        "%autoreload 2\n",
        "import sys\n",
        "\n",
        "!{sys.executable} -m pip install -U pandas-profiling[notebook]\n",
        "!jupyter nbextension enable --py widgetsnbextension"
      ],
      "execution_count": 3,
      "outputs": [
        {
          "output_type": "stream",
          "text": [
            "Collecting pandas-profiling[notebook]\n",
            "\u001b[?25l  Downloading https://files.pythonhosted.org/packages/dd/12/e2870750c5320116efe7bebd4ae1709cd7e35e3bc23ac8039864b05b9497/pandas_profiling-2.11.0-py2.py3-none-any.whl (243kB)\n",
            "\r\u001b[K     |█▍                              | 10kB 16.5MB/s eta 0:00:01\r\u001b[K     |██▊                             | 20kB 21.9MB/s eta 0:00:01\r\u001b[K     |████                            | 30kB 11.5MB/s eta 0:00:01\r\u001b[K     |█████▍                          | 40kB 9.3MB/s eta 0:00:01\r\u001b[K     |██████▊                         | 51kB 7.9MB/s eta 0:00:01\r\u001b[K     |████████                        | 61kB 8.2MB/s eta 0:00:01\r\u001b[K     |█████████▍                      | 71kB 8.0MB/s eta 0:00:01\r\u001b[K     |██████████▊                     | 81kB 8.3MB/s eta 0:00:01\r\u001b[K     |████████████                    | 92kB 7.9MB/s eta 0:00:01\r\u001b[K     |█████████████▌                  | 102kB 7.6MB/s eta 0:00:01\r\u001b[K     |██████████████▉                 | 112kB 7.6MB/s eta 0:00:01\r\u001b[K     |████████████████▏               | 122kB 7.6MB/s eta 0:00:01\r\u001b[K     |█████████████████▌              | 133kB 7.6MB/s eta 0:00:01\r\u001b[K     |██████████████████▉             | 143kB 7.6MB/s eta 0:00:01\r\u001b[K     |████████████████████▏           | 153kB 7.6MB/s eta 0:00:01\r\u001b[K     |█████████████████████▌          | 163kB 7.6MB/s eta 0:00:01\r\u001b[K     |██████████████████████▉         | 174kB 7.6MB/s eta 0:00:01\r\u001b[K     |████████████████████████▏       | 184kB 7.6MB/s eta 0:00:01\r\u001b[K     |█████████████████████████▌      | 194kB 7.6MB/s eta 0:00:01\r\u001b[K     |███████████████████████████     | 204kB 7.6MB/s eta 0:00:01\r\u001b[K     |████████████████████████████▎   | 215kB 7.6MB/s eta 0:00:01\r\u001b[K     |█████████████████████████████▋  | 225kB 7.6MB/s eta 0:00:01\r\u001b[K     |███████████████████████████████ | 235kB 7.6MB/s eta 0:00:01\r\u001b[K     |████████████████████████████████| 245kB 7.6MB/s \n",
            "\u001b[?25hRequirement already satisfied, skipping upgrade: jinja2>=2.11.1 in /usr/local/lib/python3.7/dist-packages (from pandas-profiling[notebook]) (2.11.3)\n",
            "Requirement already satisfied, skipping upgrade: seaborn>=0.10.1 in /usr/local/lib/python3.7/dist-packages (from pandas-profiling[notebook]) (0.11.1)\n",
            "Requirement already satisfied, skipping upgrade: missingno>=0.4.2 in /usr/local/lib/python3.7/dist-packages (from pandas-profiling[notebook]) (0.4.2)\n",
            "Collecting requests>=2.24.0\n",
            "\u001b[?25l  Downloading https://files.pythonhosted.org/packages/29/c1/24814557f1d22c56d50280771a17307e6bf87b70727d975fd6b2ce6b014a/requests-2.25.1-py2.py3-none-any.whl (61kB)\n",
            "\u001b[K     |████████████████████████████████| 61kB 5.8MB/s \n",
            "\u001b[?25hRequirement already satisfied, skipping upgrade: attrs>=19.3.0 in /usr/local/lib/python3.7/dist-packages (from pandas-profiling[notebook]) (20.3.0)\n",
            "Requirement already satisfied, skipping upgrade: numpy>=1.16.0 in /usr/local/lib/python3.7/dist-packages (from pandas-profiling[notebook]) (1.19.5)\n",
            "Collecting confuse>=1.0.0\n",
            "  Downloading https://files.pythonhosted.org/packages/6d/55/b4726d81e5d6509fa3441f770f8a9524612627dc1b2a7d6209d1d20083fe/confuse-1.4.0-py2.py3-none-any.whl\n",
            "Requirement already satisfied, skipping upgrade: joblib in /usr/local/lib/python3.7/dist-packages (from pandas-profiling[notebook]) (1.0.1)\n",
            "Collecting tangled-up-in-unicode>=0.0.6\n",
            "\u001b[?25l  Downloading https://files.pythonhosted.org/packages/ec/d1/58bfbe263494741a47140049b989ad42a8941854e8d34f1af90640c6c9f9/tangled_up_in_unicode-0.0.7-py3-none-any.whl (3.1MB)\n",
            "\u001b[K     |████████████████████████████████| 3.2MB 11.1MB/s \n",
            "\u001b[?25hRequirement already satisfied, skipping upgrade: ipywidgets>=7.5.1 in /usr/local/lib/python3.7/dist-packages (from pandas-profiling[notebook]) (7.6.3)\n",
            "Collecting tqdm>=4.48.2\n",
            "\u001b[?25l  Downloading https://files.pythonhosted.org/packages/f8/3e/2730d0effc282960dbff3cf91599ad0d8f3faedc8e75720fdf224b31ab24/tqdm-4.59.0-py2.py3-none-any.whl (74kB)\n",
            "\u001b[K     |████████████████████████████████| 81kB 10.2MB/s \n",
            "\u001b[?25hCollecting htmlmin>=0.1.12\n",
            "  Downloading https://files.pythonhosted.org/packages/b3/e7/fcd59e12169de19f0131ff2812077f964c6b960e7c09804d30a7bf2ab461/htmlmin-0.1.12.tar.gz\n",
            "Requirement already satisfied, skipping upgrade: pandas!=1.0.0,!=1.0.1,!=1.0.2,!=1.1.0,>=0.25.3 in /usr/local/lib/python3.7/dist-packages (from pandas-profiling[notebook]) (1.1.5)\n",
            "Collecting phik>=0.10.0\n",
            "\u001b[?25l  Downloading https://files.pythonhosted.org/packages/b7/ce/193e8ddf62d4be643b9b4b20e8e9c63b2f6a20f92778c0410c629f89bdaa/phik-0.11.2.tar.gz (1.1MB)\n",
            "\u001b[K     |████████████████████████████████| 1.1MB 37.6MB/s \n",
            "\u001b[?25hRequirement already satisfied, skipping upgrade: matplotlib>=3.2.0 in /usr/local/lib/python3.7/dist-packages (from pandas-profiling[notebook]) (3.2.2)\n",
            "Collecting visions[type_image_path]==0.6.0\n",
            "\u001b[?25l  Downloading https://files.pythonhosted.org/packages/98/30/b1e70bc55962239c4c3c9660e892be2d8247a882135a3035c10ff7f02cde/visions-0.6.0-py3-none-any.whl (75kB)\n",
            "\u001b[K     |████████████████████████████████| 81kB 9.3MB/s \n",
            "\u001b[?25hRequirement already satisfied, skipping upgrade: scipy>=1.4.1 in /usr/local/lib/python3.7/dist-packages (from pandas-profiling[notebook]) (1.4.1)\n",
            "Requirement already satisfied, skipping upgrade: jupyter-core>=4.6.3; extra == \"notebook\" in /usr/local/lib/python3.7/dist-packages (from pandas-profiling[notebook]) (4.7.1)\n",
            "Collecting jupyter-client>=6.0.0; extra == \"notebook\"\n",
            "\u001b[?25l  Downloading https://files.pythonhosted.org/packages/77/e8/c3cf72a32a697256608d5fa96360c431adec6e1c6709ba7f13f99ff5ee04/jupyter_client-6.1.12-py3-none-any.whl (112kB)\n",
            "\u001b[K     |████████████████████████████████| 122kB 39.5MB/s \n",
            "\u001b[?25hRequirement already satisfied, skipping upgrade: MarkupSafe>=0.23 in /usr/local/lib/python3.7/dist-packages (from jinja2>=2.11.1->pandas-profiling[notebook]) (1.1.1)\n",
            "Requirement already satisfied, skipping upgrade: urllib3<1.27,>=1.21.1 in /usr/local/lib/python3.7/dist-packages (from requests>=2.24.0->pandas-profiling[notebook]) (1.24.3)\n",
            "Requirement already satisfied, skipping upgrade: certifi>=2017.4.17 in /usr/local/lib/python3.7/dist-packages (from requests>=2.24.0->pandas-profiling[notebook]) (2020.12.5)\n",
            "Requirement already satisfied, skipping upgrade: idna<3,>=2.5 in /usr/local/lib/python3.7/dist-packages (from requests>=2.24.0->pandas-profiling[notebook]) (2.10)\n",
            "Requirement already satisfied, skipping upgrade: chardet<5,>=3.0.2 in /usr/local/lib/python3.7/dist-packages (from requests>=2.24.0->pandas-profiling[notebook]) (3.0.4)\n",
            "Requirement already satisfied, skipping upgrade: pyyaml in /usr/local/lib/python3.7/dist-packages (from confuse>=1.0.0->pandas-profiling[notebook]) (3.13)\n",
            "Requirement already satisfied, skipping upgrade: nbformat>=4.2.0 in /usr/local/lib/python3.7/dist-packages (from ipywidgets>=7.5.1->pandas-profiling[notebook]) (5.1.2)\n",
            "Requirement already satisfied, skipping upgrade: jupyterlab-widgets>=1.0.0; python_version >= \"3.6\" in /usr/local/lib/python3.7/dist-packages (from ipywidgets>=7.5.1->pandas-profiling[notebook]) (1.0.0)\n",
            "Requirement already satisfied, skipping upgrade: ipython>=4.0.0; python_version >= \"3.3\" in /usr/local/lib/python3.7/dist-packages (from ipywidgets>=7.5.1->pandas-profiling[notebook]) (5.5.0)\n",
            "Requirement already satisfied, skipping upgrade: ipykernel>=4.5.1 in /usr/local/lib/python3.7/dist-packages (from ipywidgets>=7.5.1->pandas-profiling[notebook]) (4.10.1)\n",
            "Requirement already satisfied, skipping upgrade: traitlets>=4.3.1 in /usr/local/lib/python3.7/dist-packages (from ipywidgets>=7.5.1->pandas-profiling[notebook]) (5.0.5)\n",
            "Requirement already satisfied, skipping upgrade: widgetsnbextension~=3.5.0 in /usr/local/lib/python3.7/dist-packages (from ipywidgets>=7.5.1->pandas-profiling[notebook]) (3.5.1)\n",
            "Requirement already satisfied, skipping upgrade: pytz>=2017.2 in /usr/local/lib/python3.7/dist-packages (from pandas!=1.0.0,!=1.0.1,!=1.0.2,!=1.1.0,>=0.25.3->pandas-profiling[notebook]) (2018.9)\n",
            "Requirement already satisfied, skipping upgrade: python-dateutil>=2.7.3 in /usr/local/lib/python3.7/dist-packages (from pandas!=1.0.0,!=1.0.1,!=1.0.2,!=1.1.0,>=0.25.3->pandas-profiling[notebook]) (2.8.1)\n",
            "Requirement already satisfied, skipping upgrade: pyparsing!=2.0.4,!=2.1.2,!=2.1.6,>=2.0.1 in /usr/local/lib/python3.7/dist-packages (from matplotlib>=3.2.0->pandas-profiling[notebook]) (2.4.7)\n",
            "Requirement already satisfied, skipping upgrade: kiwisolver>=1.0.1 in /usr/local/lib/python3.7/dist-packages (from matplotlib>=3.2.0->pandas-profiling[notebook]) (1.3.1)\n",
            "Requirement already satisfied, skipping upgrade: cycler>=0.10 in /usr/local/lib/python3.7/dist-packages (from matplotlib>=3.2.0->pandas-profiling[notebook]) (0.10.0)\n",
            "Requirement already satisfied, skipping upgrade: networkx>=2.4 in /usr/local/lib/python3.7/dist-packages (from visions[type_image_path]==0.6.0->pandas-profiling[notebook]) (2.5)\n",
            "Requirement already satisfied, skipping upgrade: Pillow; extra == \"type_image_path\" in /usr/local/lib/python3.7/dist-packages (from visions[type_image_path]==0.6.0->pandas-profiling[notebook]) (7.0.0)\n",
            "Collecting imagehash; extra == \"type_image_path\"\n",
            "\u001b[?25l  Downloading https://files.pythonhosted.org/packages/8e/18/9dbb772b5ef73a3069c66bb5bf29b9fb4dd57af0d5790c781c3f559bcca6/ImageHash-4.2.0-py2.py3-none-any.whl (295kB)\n",
            "\u001b[K     |████████████████████████████████| 296kB 44.8MB/s \n",
            "\u001b[?25hRequirement already satisfied, skipping upgrade: pyzmq>=13 in /usr/local/lib/python3.7/dist-packages (from jupyter-client>=6.0.0; extra == \"notebook\"->pandas-profiling[notebook]) (22.0.3)\n",
            "Requirement already satisfied, skipping upgrade: tornado>=4.1 in /usr/local/lib/python3.7/dist-packages (from jupyter-client>=6.0.0; extra == \"notebook\"->pandas-profiling[notebook]) (5.1.1)\n",
            "Requirement already satisfied, skipping upgrade: ipython-genutils in /usr/local/lib/python3.7/dist-packages (from nbformat>=4.2.0->ipywidgets>=7.5.1->pandas-profiling[notebook]) (0.2.0)\n",
            "Requirement already satisfied, skipping upgrade: jsonschema!=2.5.0,>=2.4 in /usr/local/lib/python3.7/dist-packages (from nbformat>=4.2.0->ipywidgets>=7.5.1->pandas-profiling[notebook]) (2.6.0)\n",
            "Requirement already satisfied, skipping upgrade: decorator in /usr/local/lib/python3.7/dist-packages (from ipython>=4.0.0; python_version >= \"3.3\"->ipywidgets>=7.5.1->pandas-profiling[notebook]) (4.4.2)\n",
            "Requirement already satisfied, skipping upgrade: pygments in /usr/local/lib/python3.7/dist-packages (from ipython>=4.0.0; python_version >= \"3.3\"->ipywidgets>=7.5.1->pandas-profiling[notebook]) (2.6.1)\n",
            "Requirement already satisfied, skipping upgrade: prompt-toolkit<2.0.0,>=1.0.4 in /usr/local/lib/python3.7/dist-packages (from ipython>=4.0.0; python_version >= \"3.3\"->ipywidgets>=7.5.1->pandas-profiling[notebook]) (1.0.18)\n",
            "Requirement already satisfied, skipping upgrade: setuptools>=18.5 in /usr/local/lib/python3.7/dist-packages (from ipython>=4.0.0; python_version >= \"3.3\"->ipywidgets>=7.5.1->pandas-profiling[notebook]) (54.1.2)\n",
            "Requirement already satisfied, skipping upgrade: pickleshare in /usr/local/lib/python3.7/dist-packages (from ipython>=4.0.0; python_version >= \"3.3\"->ipywidgets>=7.5.1->pandas-profiling[notebook]) (0.7.5)\n",
            "Requirement already satisfied, skipping upgrade: simplegeneric>0.8 in /usr/local/lib/python3.7/dist-packages (from ipython>=4.0.0; python_version >= \"3.3\"->ipywidgets>=7.5.1->pandas-profiling[notebook]) (0.8.1)\n",
            "Requirement already satisfied, skipping upgrade: pexpect; sys_platform != \"win32\" in /usr/local/lib/python3.7/dist-packages (from ipython>=4.0.0; python_version >= \"3.3\"->ipywidgets>=7.5.1->pandas-profiling[notebook]) (4.8.0)\n",
            "Requirement already satisfied, skipping upgrade: notebook>=4.4.1 in /usr/local/lib/python3.7/dist-packages (from widgetsnbextension~=3.5.0->ipywidgets>=7.5.1->pandas-profiling[notebook]) (5.3.1)\n",
            "Requirement already satisfied, skipping upgrade: six>=1.5 in /usr/local/lib/python3.7/dist-packages (from python-dateutil>=2.7.3->pandas!=1.0.0,!=1.0.1,!=1.0.2,!=1.1.0,>=0.25.3->pandas-profiling[notebook]) (1.15.0)\n",
            "Requirement already satisfied, skipping upgrade: PyWavelets in /usr/local/lib/python3.7/dist-packages (from imagehash; extra == \"type_image_path\"->visions[type_image_path]==0.6.0->pandas-profiling[notebook]) (1.1.1)\n",
            "Requirement already satisfied, skipping upgrade: wcwidth in /usr/local/lib/python3.7/dist-packages (from prompt-toolkit<2.0.0,>=1.0.4->ipython>=4.0.0; python_version >= \"3.3\"->ipywidgets>=7.5.1->pandas-profiling[notebook]) (0.2.5)\n",
            "Requirement already satisfied, skipping upgrade: ptyprocess>=0.5 in /usr/local/lib/python3.7/dist-packages (from pexpect; sys_platform != \"win32\"->ipython>=4.0.0; python_version >= \"3.3\"->ipywidgets>=7.5.1->pandas-profiling[notebook]) (0.7.0)\n",
            "Requirement already satisfied, skipping upgrade: Send2Trash in /usr/local/lib/python3.7/dist-packages (from notebook>=4.4.1->widgetsnbextension~=3.5.0->ipywidgets>=7.5.1->pandas-profiling[notebook]) (1.5.0)\n",
            "Requirement already satisfied, skipping upgrade: nbconvert in /usr/local/lib/python3.7/dist-packages (from notebook>=4.4.1->widgetsnbextension~=3.5.0->ipywidgets>=7.5.1->pandas-profiling[notebook]) (5.6.1)\n",
            "Requirement already satisfied, skipping upgrade: terminado>=0.8.1 in /usr/local/lib/python3.7/dist-packages (from notebook>=4.4.1->widgetsnbextension~=3.5.0->ipywidgets>=7.5.1->pandas-profiling[notebook]) (0.9.2)\n",
            "Requirement already satisfied, skipping upgrade: entrypoints>=0.2.2 in /usr/local/lib/python3.7/dist-packages (from nbconvert->notebook>=4.4.1->widgetsnbextension~=3.5.0->ipywidgets>=7.5.1->pandas-profiling[notebook]) (0.3)\n",
            "Requirement already satisfied, skipping upgrade: mistune<2,>=0.8.1 in /usr/local/lib/python3.7/dist-packages (from nbconvert->notebook>=4.4.1->widgetsnbextension~=3.5.0->ipywidgets>=7.5.1->pandas-profiling[notebook]) (0.8.4)\n",
            "Requirement already satisfied, skipping upgrade: defusedxml in /usr/local/lib/python3.7/dist-packages (from nbconvert->notebook>=4.4.1->widgetsnbextension~=3.5.0->ipywidgets>=7.5.1->pandas-profiling[notebook]) (0.7.1)\n",
            "Requirement already satisfied, skipping upgrade: pandocfilters>=1.4.1 in /usr/local/lib/python3.7/dist-packages (from nbconvert->notebook>=4.4.1->widgetsnbextension~=3.5.0->ipywidgets>=7.5.1->pandas-profiling[notebook]) (1.4.3)\n",
            "Requirement already satisfied, skipping upgrade: testpath in /usr/local/lib/python3.7/dist-packages (from nbconvert->notebook>=4.4.1->widgetsnbextension~=3.5.0->ipywidgets>=7.5.1->pandas-profiling[notebook]) (0.4.4)\n",
            "Requirement already satisfied, skipping upgrade: bleach in /usr/local/lib/python3.7/dist-packages (from nbconvert->notebook>=4.4.1->widgetsnbextension~=3.5.0->ipywidgets>=7.5.1->pandas-profiling[notebook]) (3.3.0)\n",
            "Requirement already satisfied, skipping upgrade: webencodings in /usr/local/lib/python3.7/dist-packages (from bleach->nbconvert->notebook>=4.4.1->widgetsnbextension~=3.5.0->ipywidgets>=7.5.1->pandas-profiling[notebook]) (0.5.1)\n",
            "Requirement already satisfied, skipping upgrade: packaging in /usr/local/lib/python3.7/dist-packages (from bleach->nbconvert->notebook>=4.4.1->widgetsnbextension~=3.5.0->ipywidgets>=7.5.1->pandas-profiling[notebook]) (20.9)\n",
            "Building wheels for collected packages: htmlmin, phik\n",
            "  Building wheel for htmlmin (setup.py) ... \u001b[?25l\u001b[?25hdone\n",
            "  Created wheel for htmlmin: filename=htmlmin-0.1.12-cp37-none-any.whl size=27085 sha256=624d3aad5e0ce65a1f12ebba1801d29ab92f8722db4a81695824af3540ac7037\n",
            "  Stored in directory: /root/.cache/pip/wheels/43/07/ac/7c5a9d708d65247ac1f94066cf1db075540b85716c30255459\n",
            "  Building wheel for phik (setup.py) ... \u001b[?25l\u001b[?25hdone\n",
            "  Created wheel for phik: filename=phik-0.11.2-cp37-none-any.whl size=1107413 sha256=b1cebfceccfde9d83b0f3a282e8be66b6f4a1ca6dd51e7bed6569dc7ccd9954d\n",
            "  Stored in directory: /root/.cache/pip/wheels/c0/a3/b0/f27b1cfe32ea131a3715169132ff6d85653789e80e966c3bf6\n",
            "Successfully built htmlmin phik\n",
            "\u001b[31mERROR: google-colab 1.0.0 has requirement requests~=2.23.0, but you'll have requests 2.25.1 which is incompatible.\u001b[0m\n",
            "\u001b[31mERROR: datascience 0.10.6 has requirement folium==0.2.1, but you'll have folium 0.8.3 which is incompatible.\u001b[0m\n",
            "\u001b[31mERROR: phik 0.11.2 has requirement scipy>=1.5.2, but you'll have scipy 1.4.1 which is incompatible.\u001b[0m\n",
            "Installing collected packages: requests, confuse, tangled-up-in-unicode, tqdm, htmlmin, phik, imagehash, visions, jupyter-client, pandas-profiling\n",
            "  Found existing installation: requests 2.23.0\n",
            "    Uninstalling requests-2.23.0:\n",
            "      Successfully uninstalled requests-2.23.0\n",
            "  Found existing installation: tqdm 4.41.1\n",
            "    Uninstalling tqdm-4.41.1:\n",
            "      Successfully uninstalled tqdm-4.41.1\n",
            "  Found existing installation: jupyter-client 5.3.5\n",
            "    Uninstalling jupyter-client-5.3.5:\n",
            "      Successfully uninstalled jupyter-client-5.3.5\n",
            "  Found existing installation: pandas-profiling 1.4.1\n",
            "    Uninstalling pandas-profiling-1.4.1:\n",
            "      Successfully uninstalled pandas-profiling-1.4.1\n",
            "Successfully installed confuse-1.4.0 htmlmin-0.1.12 imagehash-4.2.0 jupyter-client-6.1.12 pandas-profiling-2.11.0 phik-0.11.2 requests-2.25.1 tangled-up-in-unicode-0.0.7 tqdm-4.59.0 visions-0.6.0\n",
            "Enabling notebook extension jupyter-js-widgets/extension...\n",
            "      - Validating: \u001b[32mOK\u001b[0m\n"
          ],
          "name": "stdout"
        }
      ]
    },
    {
      "cell_type": "markdown",
      "metadata": {
        "id": "3nmNe8zg_cOF"
      },
      "source": [
        "Посмотрим на отчёт по данным. \n",
        "\n",
        "\n",
        "\n",
        "1.   Отсутствующие значения занимают 12.1% от всего датасета.\n",
        "2.   В данных нет дубликатов.\n",
        "3.   В 269 записях отсутсуют данные о годе выпуска игры. Некоторые пропуски полностью случайны, эти данные можно восстановить как из названий некоторых игр, так и из источников интернета.\n",
        "4.   В датасете большая представленноть игр жанра Action, Sports, Misc, Role-Playing, Shooter.\n",
        "5.   В данных столбца critic_score и user_score отсутсвует 51,3% и 40,1% значений соотвественно. Достаточно большой процент отсутствующих значений, поэтому заполнение **nan** медианным или средним значением может вызвать неправильное отражение данных или их исказит. Можно предположить, что значения отсутвуют либо по случайности, либо потому, что игра была совсем непопулярна, поэтому рейтинга критиков и пользователей у нее нет. \n",
        "6.   В столбце user_score находится 2424 значения «tbd» или «to be determined», то есть будут определены. Эти значения неслучайные, так как либо значение калибруется или изменяется, либо данные о рейтинге появятся позже. Переведем эти значения в nan."
      ]
    },
    {
      "cell_type": "code",
      "metadata": {
        "id": "I6hdr6w1J9nT"
      },
      "source": [
        "# импортируем библиотеку для создания отчета\n",
        "import pandas_profiling\n",
        "from pandas_profiling.utils.cache import cache_file\n",
        "report = file_obj.profile_report(\n",
        "    sort=\"None\", html={\"style\": {\"full_width\": True}}, progress_bar=False)\n",
        "report"
      ],
      "execution_count": null,
      "outputs": []
    },
    {
      "cell_type": "code",
      "metadata": {
        "id": "q0HLjT5-yeCV"
      },
      "source": [
        "file_obj.info()"
      ],
      "execution_count": null,
      "outputs": []
    },
    {
      "cell_type": "markdown",
      "metadata": {
        "id": "am8TllNZ9vQr"
      },
      "source": [
        "Можно заметить, что **year_of_realease** стоит перевести в тип **int** для наглядности, прежде заменив значения NaN на 0, чтобы не возникло ошибки. \n",
        "А **user_score** перевести в тип **float**, так как оценка чаще всего вещественное число."
      ]
    },
    {
      "cell_type": "code",
      "metadata": {
        "id": "HnMEK_Niyj5E"
      },
      "source": [
        "NaN_error = 0 \n",
        "file_obj['year_of_release'] = file_obj['year_of_release'].fillna(NaN_error).astype(int)\n",
        "file_obj['user_score'] = pd.to_numeric(file_obj['user_score'], errors='coerce')\n",
        "file_obj.info()"
      ],
      "execution_count": null,
      "outputs": []
    },
    {
      "cell_type": "markdown",
      "metadata": {
        "id": "gzYyu1kmRPni"
      },
      "source": [
        "Посчитаем суммарные продажи во всех регионах и запишем их в отдельный столбец **global_sales**."
      ]
    },
    {
      "cell_type": "code",
      "metadata": {
        "id": "GLtNNf9vPddW"
      },
      "source": [
        "global_sales = file_obj['na_sales'] + file_obj['eu_sales'] + \\\n",
        "                  file_obj['jp_sales'] + file_obj['other_sales']\n",
        "file_obj.insert(loc=8, column='global_sales', value=global_sales)"
      ],
      "execution_count": null,
      "outputs": []
    },
    {
      "cell_type": "markdown",
      "metadata": {
        "id": "4RUbN1aBShLj"
      },
      "source": [
        "# 2. Проведение исследовательского анализа данных"
      ]
    },
    {
      "cell_type": "code",
      "metadata": {
        "id": "FVMdjnw4TAMJ"
      },
      "source": [
        "# Импортируем необходимые библиотеки для визуализации\n",
        "%matplotlib inline\n",
        "import seaborn as sns\n",
        "import matplotlib.pyplot as plt\n",
        "import plotly"
      ],
      "execution_count": null,
      "outputs": []
    },
    {
      "cell_type": "markdown",
      "metadata": {
        "id": "Y91LVsTd61RC"
      },
      "source": [
        "Посмотрим, сколько игр выпускалось в разные годы. Важны ли данные за все периоды?"
      ]
    },
    {
      "cell_type": "code",
      "metadata": {
        "id": "9bp4mB5dgh9f"
      },
      "source": [
        "year_game_count = file_obj[file_obj['year_of_release'] != 0].groupby(['year_of_release'])['name'].count()"
      ],
      "execution_count": null,
      "outputs": []
    },
    {
      "cell_type": "code",
      "metadata": {
        "id": "weL_i_x5TA6r"
      },
      "source": [
        "import plotly.graph_objects as go\n",
        "fig = go.Figure(\n",
        "    data=[go.Bar(y = year_game_count, x = year_game_count.index)],\n",
        "    layout_title_text=\"Количество релизов игр за весь период\")\n",
        "fig.show()"
      ],
      "execution_count": null,
      "outputs": []
    },
    {
      "cell_type": "markdown",
      "metadata": {
        "id": "wLO_1EdL7IF1"
      },
      "source": [
        "Вывод по графику:\n",
        "1. Количество выпущенных игр на игровые приставки и ПК показывало постепенный рост с 1990 по 2008 год. \n",
        "2. С 2009 года видно сильное снижение. Это можно объяснить развитием рынка мобильных игр и игр для планшетов.\n",
        "3. Совершенно незначительный рост релизов игр присутствует с 2013 по 2015 года. Согласно оценкам J’son & Partners, в 2013 году большая доля рынка приходилась на игровой ПК-рынок (почти 40%), и 37% занимал сегмент консолей, то в 2016 году самым крупным сегментом становится сегмент мобильных игр, генерируя выручку 36,9 млрд долларов, что соответствует 37% всего объема мирового рынка игр. То есть в 2016 году доходы в мобильном сегменте впервые превысили доходы от сегмента игр на персональных компьютерах. За 2013-2016 гг. для смартфонов показатель роста CAGR составил 28.4%, а для планшетов — 26.9%.\n",
        "4. Таким образом, в 2017 году динамика выпуска игр на игровые приставки и ПК скорее всего так же будет показывать снижение."
      ]
    },
    {
      "cell_type": "markdown",
      "metadata": {
        "id": "IwJZ6Lkn7JRa"
      },
      "source": [
        "Посмотрим, как менялись продажи по платформам. Выберем платформы с наибольшими суммарными продажами и построим распределение по годам. За какой характерный срок появляются новые и исчезают старые платформы?"
      ]
    },
    {
      "cell_type": "code",
      "metadata": {
        "id": "r3L4nceoJqRT"
      },
      "source": [
        "top_platforms = file_obj.groupby('platform')[['global_sales']].sum()\\\n",
        "  .sort_values('global_sales', ascending=False).head(5)\n",
        "\n",
        "top_5_platform = top_platforms.reset_index().rename_axis(None, axis=1)\n",
        "print(top_5_platform)"
      ],
      "execution_count": null,
      "outputs": []
    },
    {
      "cell_type": "code",
      "metadata": {
        "id": "b5uYmlwKrMH7"
      },
      "source": [
        "platform_sales = file_obj\\\n",
        "    .pivot_table(index='platform', values='global_sales', aggfunc='sum')\\\n",
        "    .sort_values(by='global_sales', ascending=False)\n",
        "\n",
        "plt.figure(figsize=(13,6))\n",
        "sns.barplot(x = platform_sales.index, y = platform_sales['global_sales'])\n",
        "plt.title(\"Продажи по платформам за весь период\")\n",
        "plt.xlabel(\"Наименование платформы\")\n",
        "plt.ylabel(\"Сумма продаж\")\n"
      ],
      "execution_count": null,
      "outputs": []
    },
    {
      "cell_type": "markdown",
      "metadata": {
        "id": "lOUAp16AowR2"
      },
      "source": [
        "Какие платформы лидируют по продажам, растут или падают? Выберем несколько потенциально прибыльных платформ."
      ]
    },
    {
      "cell_type": "code",
      "metadata": {
        "id": "Y1VOPyfDC7NK"
      },
      "source": [
        "plt.figure(figsize=(12,6))\n",
        "plt.title('Сумма продаж популярных игровых платформ')\n",
        "plt.xlabel('Годы игровых релизов')\n",
        "plt.ylabel('Продажи')\n",
        "for i in list(top_5_platform['platform']):  \n",
        "    platform_dynamisc = file_obj[(file_obj['platform'] == i) & (file_obj['year_of_release'] > 2000)]\\\n",
        "    .pivot_table(index='year_of_release', values='global_sales', aggfunc='sum')\\\n",
        "    .sort_values('year_of_release', ascending=False)\n",
        "    \n",
        "    sns.set_palette(\"Paired\", 10)\n",
        "    sns.lineplot(data=platform_dynamisc['global_sales'], label=i)\n",
        "    plt.legend()\n"
      ],
      "execution_count": null,
      "outputs": []
    },
    {
      "cell_type": "code",
      "metadata": {
        "id": "gnMqaK9rcviV"
      },
      "source": [
        "\n",
        "top_platforms = file_obj.platform.value_counts().sort_values(ascending = False).head(5).index.values\n",
        "print(top_platforms)\n",
        "sns.boxplot(y=\"platform\", x=\"global_sales\", data=file_obj[file_obj.platform.isin(top_platforms)], orient=\"h\")"
      ],
      "execution_count": null,
      "outputs": []
    },
    {
      "cell_type": "code",
      "metadata": {
        "id": "HHhH5hx3GiaF"
      },
      "source": [
        "top_pplatforms = file_obj.platform.value_counts().sort_values(ascending = False).head(5).index.values\n",
        "sv = file_obj[file_obj['global_sales'] < 2]\n",
        "plt.figure(figsize=(12,6))\n",
        "sns.boxplot(y=\"platform\", x=\"global_sales\", data=sv[sv.platform.isin(top_platforms)], orient=\"h\")"
      ],
      "execution_count": null,
      "outputs": []
    },
    {
      "cell_type": "code",
      "metadata": {
        "id": "EpwL3q10vwMP"
      },
      "source": [
        "cols = ['year_of_release', 'genre', 'global_sales', 'critic_score', 'user_score', 'rating']\n",
        "norm_year = file_obj[file_obj['year_of_release'] != 0]\n",
        "sns_plot = sns.pairplot(norm_year[cols])\n"
      ],
      "execution_count": null,
      "outputs": []
    },
    {
      "cell_type": "code",
      "metadata": {
        "id": "Tl-Smzw49KHs"
      },
      "source": [
        "def correlation_platform_score(score, sales, platform):\n",
        "  data = file_obj[file_obj['platform'] == platform]\n",
        "  correlation = data[score].corr(data[sales])\n",
        "  if 0.3 >= correlation >= 0.1:\n",
        "    print('Корреляция между {} и {} на платформе {}'.format(score, sales, platform), ': Слабая')\n",
        "  elif 0.5 >= correlation >= 0.3:\n",
        "    print('Корреляция между {} и {} на платформе {}'.format(score, sales, platform), ': Умеренная')\n",
        "  elif 0.7 >= correlation >= 0.5:\n",
        "    print('Корреляция между {} и {} на платформе {}'.format(score, sales, platform), ': Высокая')\n",
        "  elif 0.9 >= correlation >= 0.7:\n",
        "    print('Корреляция между {} и {} на платформе {}'.format(score, sales, platform), ': Весьма высокая')\n",
        "  elif 1 >= correlation >= 0.9:\n",
        "    print('Корреляция между {} и {} на платформе {}'.format(score, sales, platform), ': Сильная')\n",
        "\n",
        "for i in list(top_5_platform['platform']):\n",
        "  correlation_platform_score('user_score', 'global_sales', str(i))\n",
        "  correlation_platform_score('critic_score', 'global_sales', str(i))"
      ],
      "execution_count": null,
      "outputs": []
    },
    {
      "cell_type": "code",
      "metadata": {
        "id": "Uqdpf2qdwJJs"
      },
      "source": [
        "genre_distribution = file_obj\\\n",
        "  .pivot_table(index='genre', values='global_sales', aggfunc='sum')\\\n",
        "  .sort_values(by='global_sales', ascending=False)\n",
        "genre_distribution = genre_distribution.reset_index().rename_axis(None, axis=1)\n",
        "plt.figure(figsize=(12,6))\n",
        "plt.title('Распределение игр по полярности жанров',fontsize=15)\n",
        "sns.barplot(data=genre_distribution, x='genre', y='global_sales')\n",
        "plt.xlabel('Жанры игр',fontsize=12)\n",
        "plt.ylabel('Продажи',fontsize=12)"
      ],
      "execution_count": null,
      "outputs": []
    },
    {
      "cell_type": "markdown",
      "metadata": {
        "id": "QB245W3SxgYO"
      },
      "source": [
        "# Составление портрета пользователя каждого региона"
      ]
    },
    {
      "cell_type": "code",
      "metadata": {
        "id": "25C9FpgexrbV"
      },
      "source": [
        "# Напишем функцию, которая будет выбирать в сводную таблицу данные\n",
        "# по необходимому объекту сравнения с определенного года\n",
        "# и выводить график\n",
        "def country_preferences(sales, country, year=1980):\n",
        "  from_time = file_obj[file_obj['year_of_release'] >= year]\n",
        "  for obj in ['platform', 'genre', 'rating']:\n",
        "    country_preferences = from_time\\\n",
        "      .pivot_table(index= obj, values=sales, aggfunc='sum')\\\n",
        "      .sort_values(by=sales, ascending=False)\\\n",
        "      .head(5)\n",
        "    country_preferences = country_preferences.reset_index().rename_axis(None, axis=1)\n",
        "\n",
        "    plt.figure(figsize=(7,4))\n",
        "    plt.title('Preferred {} in {} from {}'.format(obj, country, year),fontsize=15)\n",
        "    sns.set_palette(\"flare\")\n",
        "    sns.barplot(data=country_preferences, x=obj, y=sales)\n",
        "    plt.xlabel(str(obj),fontsize=12)\n",
        "    plt.ylabel(str(sales),fontsize=12) \n",
        "\n"
      ],
      "execution_count": null,
      "outputs": []
    },
    {
      "cell_type": "markdown",
      "metadata": {
        "id": "sMnb8WvtCM7R"
      },
      "source": [
        "## Посмотрим на предпочитаемые платформы, жанры и рейтинги игр **в Северной Америке** за весь период и с 2015 года. \n"
      ]
    },
    {
      "cell_type": "code",
      "metadata": {
        "id": "Y68uX5lV53SP"
      },
      "source": [
        "country_preferences('na_sales', 'North America') "
      ],
      "execution_count": null,
      "outputs": []
    },
    {
      "cell_type": "code",
      "metadata": {
        "id": "nKvsBDJlKmDK"
      },
      "source": [
        "country_preferences('na_sales', 'North America', 2015) "
      ],
      "execution_count": null,
      "outputs": []
    },
    {
      "cell_type": "markdown",
      "metadata": {
        "id": "oUTgkFtJG6uE"
      },
      "source": [
        "Вывод по графикам:\n",
        "\n",
        "### За весь период:\n",
        "\n",
        "***Самые популярные игровые платформы в Северной Америке***: XBOX, PS2, WII, PS3, DS.\n",
        "\n",
        "***Топ-5 жанров***: Action, Sports, Shooter, Platform, Misc.\n",
        "\n",
        "***Предпочитаемые рейтинги***: E (для всех) - наибольшее количество, T (для подростов) и M (для взрослых) примерно одинаковое количество.\n",
        "\n",
        "### За период 2015-2016:\n",
        "С 2015 по 2016 год интерес пользователей меняется:\n",
        "\n",
        "***Топ игровых приставок выглядит таким образом***: PS4, Xone, DS3\n",
        "\n",
        "***Топ жанров игр***: Shooter, Action, Sports.\n",
        "За последний год американские пользователи больше предпочитали жанр Shooter жанру Action.\n",
        "\n",
        "***Топ рейтингов игр***: M (для взрослых) - наибольшее количество, E (для всех) и T (для подростков)\n",
        "За последний год американские пользователи больше предпочитали рейтинг игр М (для взрослых) рейтингу E (для всех)."
      ]
    },
    {
      "cell_type": "markdown",
      "metadata": {
        "id": "OGVlxPhbUixN"
      },
      "source": [
        "## Посмотрим на предпочитаемые платформы, жанры и рейтинги игр **в Европейском Союзе** за весь период и с 2015 года.\n"
      ]
    },
    {
      "cell_type": "code",
      "metadata": {
        "id": "sNMe9FbEC3FT"
      },
      "source": [
        "country_preferences('eu_sales', 'European Union') "
      ],
      "execution_count": null,
      "outputs": []
    },
    {
      "cell_type": "code",
      "metadata": {
        "id": "lZggprGBSDMx"
      },
      "source": [
        "country_preferences('eu_sales', 'European Union', 2015) "
      ],
      "execution_count": null,
      "outputs": []
    },
    {
      "cell_type": "markdown",
      "metadata": {
        "id": "DFBryve0VHSQ"
      },
      "source": [
        "Вывод по графикам:\n",
        "\n",
        "### За весь период:\n",
        "\n",
        "***Самые популярные игровые платформы в Европейском Союзе***:  PS2, PS3, X360, WII, DS.\n",
        "\n",
        "***Топ-5 жанров***: Action, Sports, Shooter, Racing, Misc.\n",
        "\n",
        "***Предпочитаемые рейтинги***: E (для всех) - наибольшее количество, M (для взрослых) и чуть меньше T (для подростов).\n",
        "\n",
        "\n",
        "\n",
        "### За период 2015-2016:\n",
        "С 2015 по 2016 год предпочтение пользователей выглядит таким образом:\n",
        "\n",
        "***Топ игровых приставок*** : PS4, Xone, PC\n",
        "\n",
        "***Топ жанров игр***: Shooter, Sports, Action.\n",
        "За последний год европейцы как и американские пользователи больше предпочитали жанр Shooter. Жанр Action опустился на 3 место.\n",
        "\n",
        "***Топ рейтингов игр***: M (для взрослых) - наибольшее количество, E (для всех) и T (для подростков).\n",
        "За последний год европейцы больше предпочитали рейтинг игр М (для взрослых) рейтингу E (для всех)."
      ]
    },
    {
      "cell_type": "markdown",
      "metadata": {
        "id": "fF-2LnTfZ9Ai"
      },
      "source": [
        "## Посмотрим на предпочитаемые платформы, жанры и рейтинги игр  **в Японии** за весь период и с 2015 года.\n"
      ]
    },
    {
      "cell_type": "code",
      "metadata": {
        "id": "PTBPYuvbDqKF"
      },
      "source": [
        "country_preferences('jp_sales', 'Japan') "
      ],
      "execution_count": null,
      "outputs": []
    },
    {
      "cell_type": "code",
      "metadata": {
        "id": "fUxE79Rtbi_6"
      },
      "source": [
        "country_preferences('jp_sales', 'Japan', 2015) "
      ],
      "execution_count": null,
      "outputs": []
    },
    {
      "cell_type": "markdown",
      "metadata": {
        "id": "sJFatymzbpn5"
      },
      "source": [
        "Вывод по графикам:\n",
        "\n",
        "### За весь период:\n",
        "\n",
        "***Самые популярные игровые платформы в Японии***:  DS, PS, PS2, SNES, 3DS.\n",
        "\n",
        "***Топ-5 жанров***: Role-Playing, Action, Sports, Platform, Misc.\n",
        "\n",
        "***Предпочитаемые рейтинги***: E (для всех) - наибольшее количество, T (для подростов),  M (для взрослых).\n",
        "\n",
        "\n",
        "\n",
        "### За период 2015-2016:\n",
        "С 2015 по 2016 год предпочтение пользователей выглядит таким образом:\n",
        "\n",
        "***Топ игровых приставок*** : 3DS, PS4, PSV.\n",
        "\n",
        "***Топ жанров игр***: Action, Role-playing, Adventure\n",
        "За последние годы японские пользователи больше предпочитали жанр Action. Жанр Role-playing опустился на 2 место.\n",
        "\n",
        "***Топ рейтингов игр***: T (для подростков) - наибольшее количество, E (для всех) и M (для взрослых).\n",
        "За последние годы японцы больше предпочитали рейтинг игр T (для подростков) рейтингу E (для всех)."
      ]
    },
    {
      "cell_type": "markdown",
      "metadata": {
        "id": "eZ90sgYXMevV"
      },
      "source": [
        "# Проведение исследования статистических показателей"
      ]
    },
    {
      "cell_type": "code",
      "metadata": {
        "id": "Kg1g2gK_Sod4"
      },
      "source": [
        "data = []\n",
        "for genre in file_obj.genre.unique():\n",
        "    data.append(\n",
        "        go.Box(y=file_obj[file_obj.genre==genre].user_score, name=genre)\n",
        "    )\n",
        "\n",
        "# визуализируем данные\n",
        "iplot(data, show_link = False)"
      ],
      "execution_count": null,
      "outputs": []
    },
    {
      "cell_type": "code",
      "metadata": {
        "id": "IU9Wga8umiV-"
      },
      "source": [
        "data = []\n",
        "for genre in file_obj.genre.unique():\n",
        "    data.append(\n",
        "        go.Box(y=file_obj[file_obj.genre==genre].critic_score, name=genre)\n",
        "    )\n",
        "\n",
        "# визуализируем данные\n",
        "iplot(data, show_link = False)"
      ],
      "execution_count": null,
      "outputs": []
    },
    {
      "cell_type": "code",
      "metadata": {
        "id": "0mBxM5HzQjVI"
      },
      "source": [
        "top_5_genres = genre_distribution.head(5)\n",
        "for genre in list(top_5_genres.genre):\n",
        "  genre_data = file_obj[file_obj['genre']==genre]['user_score']\n",
        "  print('Дисперсия', genre,':', np.var(genre_data))\n",
        "  print('Стандартное отклонение', genre,':', np.std(genre_data))\n",
        "  print('Среднее', genre,':',  genre_data.mean())\n",
        "  print('Медиана', genre,':',  genre_data.median())\n"
      ],
      "execution_count": null,
      "outputs": []
    }
  ]
}